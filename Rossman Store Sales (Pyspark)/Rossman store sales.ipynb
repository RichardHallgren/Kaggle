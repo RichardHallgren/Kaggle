{
 "cells": [
  {
   "cell_type": "markdown",
   "metadata": {},
   "source": [
    "## Rossman store sales (Kaggle competition)\n",
    "\n",
    "The goal is to make a forecast for upcoming sales in 1115 Rossmann stores based on data from from 2013-01-01 to 2015-07-31. The forecast period is 2015-08-01 to 2015-09-17. "
   ]
  },
  {
   "cell_type": "code",
   "execution_count": 1,
   "metadata": {},
   "outputs": [
    {
     "name": "stdout",
     "output_type": "stream",
     "text": [
      "Waiting for a Spark session to start...\n",
      "Spark Initialization Done! ApplicationId = app-20200601104239-0000\n",
      "KERNEL_ID = 671800ad-11c9-4bcb-88e6-bff26884fd67\n"
     ]
    }
   ],
   "source": [
    "# @hidden_cell\n",
    "# The project token is an authorization token that is used to access project resources like data sources, connections, and used by platform APIs.\n",
    "from project_lib import Project\n",
    "project = Project(spark.sparkContext, 'Removed', 'Removed')\n",
    "pc = project.project_context\n"
   ]
  },
  {
   "cell_type": "markdown",
   "metadata": {},
   "source": [
    "### Load data\n",
    "\n",
    "Load the data containing the sales data, the data containing store information, a sample submission and the test data."
   ]
  },
  {
   "cell_type": "code",
   "execution_count": 2,
   "metadata": {},
   "outputs": [],
   "source": [
    "\n",
    "import ibmos2spark\n",
    "# @hidden_cell\n",
    "credentials = {\n",
    "    'endpoint': 'https://s3-api.us-geo.objectstorage.service.networklayer.com',\n",
    "    'service_id': 'Removed',\n",
    "    'iam_service_endpoint': 'https://iam.ng.bluemix.net/oidc/token',\n",
    "    'api_key': 'Removed'\n",
    "}\n",
    "\n",
    "configuration_name = 'os_c63666ea1c9d403e811d4c86742ad623_configs'\n",
    "cos = ibmos2spark.CloudObjectStorage(sc, credentials, configuration_name, 'bluemix_cos')\n",
    "\n",
    "from pyspark.sql import SparkSession\n",
    "spark = SparkSession.builder.getOrCreate()\n",
    "df_train = spark.read\\\n",
    "  .format('org.apache.spark.sql.execution.datasources.csv.CSVFileFormat')\\\n",
    "  .option('header', 'true')\\\n",
    "  .load(cos.url('train.csv', 'm5forecastingaccuracy-donotdelete-pr-5fybfotj7xtmkk'), inferSchema= 'true')\n",
    "#df_train.take(1)\n"
   ]
  },
  {
   "cell_type": "code",
   "execution_count": 3,
   "metadata": {},
   "outputs": [],
   "source": [
    "\n",
    "df_store = spark.read\\\n",
    "  .format('org.apache.spark.sql.execution.datasources.csv.CSVFileFormat')\\\n",
    "  .option('header', 'true')\\\n",
    "  .load(cos.url('store.csv', 'm5forecastingaccuracy-donotdelete-pr-5fybfotj7xtmkk'), inferSchema= 'true')\n",
    "#df_store.take(1)\n"
   ]
  },
  {
   "cell_type": "code",
   "execution_count": 4,
   "metadata": {},
   "outputs": [],
   "source": [
    "# Load a sample submission showing the format of the data that should be submitted to Kaggle\n",
    "import types\n",
    "import pandas as pd\n",
    "from botocore.client import Config\n",
    "import ibm_boto3\n",
    "\n",
    "def __iter__(self): return 0\n",
    "\n",
    "# @hidden_cell\n",
    "# The following code accesses a file in your IBM Cloud Object Storage. It includes your credentials.\n",
    "# You might want to remove those credentials before you share the notebook.\n",
    "client_c63666ea1c9d403e811d4c86742ad623 = ibm_boto3.client(service_name='s3',\n",
    "    ibm_api_key_id='Removed',\n",
    "    ibm_auth_endpoint=\"https://iam.ng.bluemix.net/oidc/token\",\n",
    "    config=Config(signature_version='oauth'),\n",
    "    endpoint_url='https://s3-api.us-geo.objectstorage.service.networklayer.com')\n",
    "\n",
    "body = client_c63666ea1c9d403e811d4c86742ad623.get_object(Bucket='m5forecastingaccuracy-donotdelete-pr-5fybfotj7xtmkk',Key='sample_submission.csv')['Body']\n",
    "# add missing __iter__ method, so pandas accepts body as file-like object\n",
    "if not hasattr(body, \"__iter__\"): body.__iter__ = types.MethodType( __iter__, body )\n",
    "\n",
    "sample_sub = pd.read_csv(body)\n",
    "#sample_sub.head(1)\n"
   ]
  },
  {
   "cell_type": "code",
   "execution_count": 5,
   "metadata": {},
   "outputs": [
    {
     "data": {
      "text/plain": [
       "[Row(Id=1, Store=1, DayOfWeek=4, Date=datetime.datetime(2015, 9, 17, 0, 0), Open=1, Promo=1, StateHoliday='0', SchoolHoliday=0)]"
      ]
     },
     "execution_count": 5,
     "metadata": {},
     "output_type": "execute_result"
    }
   ],
   "source": [
    "# load data used for test predictions to Kaggle\n",
    "df_test = spark.read\\\n",
    "  .format('org.apache.spark.sql.execution.datasources.csv.CSVFileFormat')\\\n",
    "  .option('header', 'true')\\\n",
    "  .load(cos.url('test.csv', 'm5forecastingaccuracy-donotdelete-pr-5fybfotj7xtmkk'), inferSchema= 'true')\n",
    "df_test.take(1)\n"
   ]
  },
  {
   "cell_type": "code",
   "execution_count": 6,
   "metadata": {},
   "outputs": [],
   "source": [
    "#!pip install heatmapz"
   ]
  },
  {
   "cell_type": "code",
   "execution_count": 7,
   "metadata": {},
   "outputs": [],
   "source": [
    "import pyspark.sql.functions as F\n",
    "import pandas as pd\n",
    "import seaborn as sns\n",
    "import numpy as np\n",
    "import matplotlib.pyplot as plt"
   ]
  },
  {
   "cell_type": "code",
   "execution_count": null,
   "metadata": {},
   "outputs": [],
   "source": [
    "from heatmap import corrplot"
   ]
  },
  {
   "cell_type": "markdown",
   "metadata": {},
   "source": [
    "#### Check the schema of the dataframe containing the store data"
   ]
  },
  {
   "cell_type": "code",
   "execution_count": 8,
   "metadata": {},
   "outputs": [
    {
     "name": "stdout",
     "output_type": "stream",
     "text": [
      "root\n",
      " |-- Store: integer (nullable = true)\n",
      " |-- StoreType: string (nullable = true)\n",
      " |-- Assortment: string (nullable = true)\n",
      " |-- CompetitionDistance: integer (nullable = true)\n",
      " |-- CompetitionOpenSinceMonth: integer (nullable = true)\n",
      " |-- CompetitionOpenSinceYear: integer (nullable = true)\n",
      " |-- Promo2: integer (nullable = true)\n",
      " |-- Promo2SinceWeek: integer (nullable = true)\n",
      " |-- Promo2SinceYear: integer (nullable = true)\n",
      " |-- PromoInterval: string (nullable = true)\n",
      "\n"
     ]
    }
   ],
   "source": [
    "df_store.printSchema()"
   ]
  },
  {
   "cell_type": "code",
   "execution_count": 8,
   "metadata": {},
   "outputs": [
    {
     "name": "stdout",
     "output_type": "stream",
     "text": [
      "Number of records in df_j: 1017209\n",
      "Number of records in df_j_test: 41088\n"
     ]
    }
   ],
   "source": [
    "#Join the data from df_store with the sales data in df_data_1\n",
    "\n",
    "df_j = df_train.join(df_store, \"Store\")\n",
    "df_j_test = df_test.join(df_store, \"Store\")\n",
    "\n",
    "print('Number of records in df_j:', df_j.count())\n",
    "print('Number of records in df_j_test:', df_j_test.count())"
   ]
  },
  {
   "cell_type": "markdown",
   "metadata": {},
   "source": [
    "Remove the entries when the store is closed. Only stores which are open during the forecast period needs to be predicted. So the model doesn't have to deal with closed stores."
   ]
  },
  {
   "cell_type": "code",
   "execution_count": 9,
   "metadata": {},
   "outputs": [],
   "source": [
    "# Remove entries when store is closed (Open = 0) from training data.\n",
    "\n",
    "df_j = df_j.filter(df_j.Open == 1)\n"
   ]
  },
  {
   "cell_type": "code",
   "execution_count": 10,
   "metadata": {},
   "outputs": [
    {
     "name": "stdout",
     "output_type": "stream",
     "text": [
      "Number of records in df_j: 844392\n"
     ]
    }
   ],
   "source": [
    "print('Number of records in df_j:', df_j.count())"
   ]
  },
  {
   "cell_type": "code",
   "execution_count": 80,
   "metadata": {},
   "outputs": [
    {
     "name": "stdout",
     "output_type": "stream",
     "text": [
      "+---------------------+\n",
      "|count(DISTINCT Store)|\n",
      "+---------------------+\n",
      "|                 1115|\n",
      "+---------------------+\n",
      "\n"
     ]
    }
   ],
   "source": [
    "df_j.select(F.countDistinct(\"Store\")).show()"
   ]
  },
  {
   "cell_type": "code",
   "execution_count": 50,
   "metadata": {},
   "outputs": [],
   "source": [
    "df_j_pandas = df_j.toPandas()"
   ]
  },
  {
   "cell_type": "markdown",
   "metadata": {},
   "source": [
    "#### Correlation plot\n",
    "Plot the correlations to see which features have a strong correlation. Of course Customers have a strong correlation to Sales, but the customers feature will not be available in the test set.\n",
    "\n",
    "Also Promo seems to correlate with the Sales (meaning that the store is running a promotion on a specific day).\n",
    "\n",
    "Features that actually are categorical (such as DayOfWeek, Year, Month, Week) is ignored (will be onehot-encoded later)."
   ]
  },
  {
   "cell_type": "code",
   "execution_count": 18,
   "metadata": {},
   "outputs": [
    {
     "data": {
      "image/png": "[encoded data removed]",
      "text/plain": [
       "<Figure size 1152x720 with 2 Axes>"
      ]
     },
     "metadata": {
      "needs_background": "light"
     },
     "output_type": "display_data"
    }
   ],
   "source": [
    "\n",
    "fig = plt.gcf()\n",
    "fig.set_size_inches( 16, 10)\n",
    "corrplot(df_j_pandas.corr(), size_scale=1000)"
   ]
  },
  {
   "cell_type": "code",
   "execution_count": 19,
   "metadata": {},
   "outputs": [
    {
     "data": {
      "image/png": "[encoded data removed]",
      "text/plain": [
       "<Figure size 432x288 with 1 Axes>"
      ]
     },
     "metadata": {},
     "output_type": "display_data"
    }
   ],
   "source": [
    "sns.set(color_codes=True)\n",
    "sns.distplot(df_j_pandas.Sales);"
   ]
  },
  {
   "cell_type": "code",
   "execution_count": 20,
   "metadata": {},
   "outputs": [
    {
     "name": "stdout",
     "output_type": "stream",
     "text": [
      "Max Sales: 41551\n"
     ]
    }
   ],
   "source": [
    "max_sales = df_j.agg({'Sales': 'max'}).collect()[0][0]\n",
    "print('Max Sales:', max_sales)"
   ]
  },
  {
   "cell_type": "code",
   "execution_count": 21,
   "metadata": {},
   "outputs": [
    {
     "name": "stdout",
     "output_type": "stream",
     "text": [
      "Open store days where Sales = 0: 54\n"
     ]
    }
   ],
   "source": [
    "print('Open store days where Sales = 0:', df_j.filter(df_j.Sales == 0).count())"
   ]
  },
  {
   "cell_type": "code",
   "execution_count": 22,
   "metadata": {},
   "outputs": [
    {
     "name": "stdout",
     "output_type": "stream",
     "text": [
      "root\n",
      " |-- Store: integer (nullable = true)\n",
      " |-- DayOfWeek: integer (nullable = true)\n",
      " |-- Date: timestamp (nullable = true)\n",
      " |-- Sales: integer (nullable = true)\n",
      " |-- Customers: integer (nullable = true)\n",
      " |-- Open: integer (nullable = true)\n",
      " |-- Promo: integer (nullable = true)\n",
      " |-- StateHoliday: string (nullable = true)\n",
      " |-- SchoolHoliday: integer (nullable = true)\n",
      " |-- StoreType: string (nullable = true)\n",
      " |-- Assortment: string (nullable = true)\n",
      " |-- CompetitionDistance: integer (nullable = true)\n",
      " |-- CompetitionOpenSinceMonth: integer (nullable = true)\n",
      " |-- CompetitionOpenSinceYear: integer (nullable = true)\n",
      " |-- Promo2: integer (nullable = true)\n",
      " |-- Promo2SinceWeek: integer (nullable = true)\n",
      " |-- Promo2SinceYear: integer (nullable = true)\n",
      " |-- PromoInterval: string (nullable = true)\n",
      "\n"
     ]
    }
   ],
   "source": [
    "df_j.printSchema()"
   ]
  },
  {
   "cell_type": "code",
   "execution_count": 23,
   "metadata": {},
   "outputs": [
    {
     "name": "stdout",
     "output_type": "stream",
     "text": [
      "root\n",
      " |-- Store: integer (nullable = true)\n",
      " |-- Id: integer (nullable = true)\n",
      " |-- DayOfWeek: integer (nullable = true)\n",
      " |-- Date: timestamp (nullable = true)\n",
      " |-- Open: integer (nullable = true)\n",
      " |-- Promo: integer (nullable = true)\n",
      " |-- StateHoliday: string (nullable = true)\n",
      " |-- SchoolHoliday: integer (nullable = true)\n",
      " |-- StoreType: string (nullable = true)\n",
      " |-- Assortment: string (nullable = true)\n",
      " |-- CompetitionDistance: integer (nullable = true)\n",
      " |-- CompetitionOpenSinceMonth: integer (nullable = true)\n",
      " |-- CompetitionOpenSinceYear: integer (nullable = true)\n",
      " |-- Promo2: integer (nullable = true)\n",
      " |-- Promo2SinceWeek: integer (nullable = true)\n",
      " |-- Promo2SinceYear: integer (nullable = true)\n",
      " |-- PromoInterval: string (nullable = true)\n",
      "\n"
     ]
    }
   ],
   "source": [
    "df_j_test.printSchema()"
   ]
  },
  {
   "cell_type": "markdown",
   "metadata": {},
   "source": [
    "### Create features"
   ]
  },
  {
   "cell_type": "markdown",
   "metadata": {},
   "source": [
    "Create a feature for days since competition opened"
   ]
  },
  {
   "cell_type": "code",
   "execution_count": 11,
   "metadata": {},
   "outputs": [
    {
     "data": {
      "text/plain": [
       "[Row(Store=1, DayOfWeek=5, Date=datetime.datetime(2015, 7, 31, 0, 0), Sales=5263, Customers=555, Open=1, Promo=1, StateHoliday='0', SchoolHoliday=1, StoreType='c', Assortment='a', CompetitionDistance=1270, Promo2=0, Promo2SinceWeek=None, Promo2SinceYear=None, PromoInterval=None, DaysSinceCompOpen=2524)]"
      ]
     },
     "execution_count": 11,
     "metadata": {},
     "output_type": "execute_result"
    }
   ],
   "source": [
    "#Calculate days since competition opened\n",
    "\n",
    "import pyspark.sql.functions as F\n",
    "\n",
    "cols_to_drop = ['CompetitionOpenSinceMonth', 'CompetitionOpenSinceYear', 'CompOpenSince']\n",
    "\n",
    "df_j = df_j.withColumn(\"CompOpenSince\", F.to_date(F.concat_ws(\"-\", \"CompetitionOpenSinceYear\", \"CompetitionOpenSinceMonth\")))\n",
    "df_j_test = df_j_test.withColumn(\"CompOpenSince\", F.to_date(F.concat_ws(\"-\", \"CompetitionOpenSinceYear\", \"CompetitionOpenSinceMonth\")))\n",
    "\n",
    "df_j = df_j.withColumn('DaysSinceCompOpen', F.datediff(df_j.Date, df_j.CompOpenSince))\n",
    "df_j_test = df_j_test.withColumn('DaysSinceCompOpen', F.datediff(df_j_test.Date, df_j_test.CompOpenSince))\n",
    "\n",
    "df_j = df_j.drop(*cols_to_drop)\n",
    "df_j_test = df_j_test.drop(*cols_to_drop)\n",
    "\n",
    "df_j.take(1)\n"
   ]
  },
  {
   "cell_type": "markdown",
   "metadata": {},
   "source": [
    "Extract features from the date"
   ]
  },
  {
   "cell_type": "code",
   "execution_count": 12,
   "metadata": {},
   "outputs": [],
   "source": [
    "# Extract year, month and week from date\n",
    "\n",
    "df_j = df_j.withColumn('Year',F.year('Date'))\n",
    "df_j = df_j.withColumn('Month',F.month('Date'))\n",
    "df_j = df_j.withColumn('Week',F.weekofyear('Date'))\n",
    "\n",
    "df_j_test = df_j_test.withColumn('Year',F.year('Date'))\n",
    "df_j_test = df_j_test.withColumn('Month',F.month('Date'))\n",
    "df_j_test = df_j_test.withColumn('Week',F.weekofyear('Date'))\n"
   ]
  },
  {
   "cell_type": "code",
   "execution_count": 13,
   "metadata": {},
   "outputs": [
    {
     "name": "stdout",
     "output_type": "stream",
     "text": [
      "root\n",
      " |-- Store: integer (nullable = true)\n",
      " |-- DayOfWeek: integer (nullable = true)\n",
      " |-- Date: timestamp (nullable = true)\n",
      " |-- Sales: integer (nullable = true)\n",
      " |-- Customers: integer (nullable = true)\n",
      " |-- Open: integer (nullable = true)\n",
      " |-- Promo: integer (nullable = true)\n",
      " |-- StateHoliday: string (nullable = true)\n",
      " |-- SchoolHoliday: integer (nullable = true)\n",
      " |-- StoreType: string (nullable = true)\n",
      " |-- Assortment: string (nullable = true)\n",
      " |-- CompetitionDistance: integer (nullable = true)\n",
      " |-- Promo2: integer (nullable = true)\n",
      " |-- Promo2SinceWeek: integer (nullable = true)\n",
      " |-- Promo2SinceYear: integer (nullable = true)\n",
      " |-- PromoInterval: string (nullable = true)\n",
      " |-- DaysSinceCompOpen: integer (nullable = true)\n",
      " |-- Year: integer (nullable = true)\n",
      " |-- Month: integer (nullable = true)\n",
      " |-- Week: integer (nullable = true)\n",
      "\n"
     ]
    }
   ],
   "source": [
    "df_j.printSchema()"
   ]
  },
  {
   "cell_type": "code",
   "execution_count": 14,
   "metadata": {},
   "outputs": [],
   "source": [
    "# Change datatype of some columns with wrong dtype\n",
    "\n",
    "cols_to_double = ['DaysSinceCompOpen', 'CompetitionDistance', 'Month', 'DayOfWeek', 'Week']\n",
    "\n",
    "for col in cols_to_double:\n",
    "    df_j = df_j.withColumn(col, df_j[col].cast('double'))\n",
    "    df_j_test = df_j_test.withColumn(col, df_j_test[col].cast('double'))\n",
    "\n",
    "df_j = df_j.withColumn('Sales', df_j['Sales'].cast('double'))\n"
   ]
  },
  {
   "cell_type": "code",
   "execution_count": 85,
   "metadata": {},
   "outputs": [
    {
     "data": {
      "text/html": [
       "<div>\n",
       "<style scoped>\n",
       "    .dataframe tbody tr th:only-of-type {\n",
       "        vertical-align: middle;\n",
       "    }\n",
       "\n",
       "    .dataframe tbody tr th {\n",
       "        vertical-align: top;\n",
       "    }\n",
       "\n",
       "    .dataframe thead th {\n",
       "        text-align: right;\n",
       "    }\n",
       "</style>\n",
       "<table border=\"1\" class=\"dataframe\">\n",
       "  <thead>\n",
       "    <tr style=\"text-align: right;\">\n",
       "      <th></th>\n",
       "      <th>count</th>\n",
       "    </tr>\n",
       "  </thead>\n",
       "  <tbody>\n",
       "    <tr>\n",
       "      <th>Promo2SinceWeek</th>\n",
       "      <td>423307</td>\n",
       "    </tr>\n",
       "    <tr>\n",
       "      <th>Promo2SinceYear</th>\n",
       "      <td>423307</td>\n",
       "    </tr>\n",
       "    <tr>\n",
       "      <th>DaysSinceCompOpen</th>\n",
       "      <td>268619</td>\n",
       "    </tr>\n",
       "    <tr>\n",
       "      <th>CompetitionDistance</th>\n",
       "      <td>2186</td>\n",
       "    </tr>\n",
       "  </tbody>\n",
       "</table>\n",
       "</div>"
      ],
      "text/plain": [
       "                      count\n",
       "Promo2SinceWeek      423307\n",
       "Promo2SinceYear      423307\n",
       "DaysSinceCompOpen    268619\n",
       "CompetitionDistance    2186"
      ]
     },
     "execution_count": 85,
     "metadata": {},
     "output_type": "execute_result"
    }
   ],
   "source": [
    "def count_missings(spark_df,sort=True):\n",
    "    df = spark_df.select([F.count(F.when(F.isnan(c) | F.isnull(c), c)).alias(c) for (c,c_type) in spark_df.dtypes if c_type not in ('timestamp', 'string', 'date')]).toPandas()\n",
    "\n",
    "    if len(df) == 0:\n",
    "        print(\"There are no any missing values!\")\n",
    "        return None\n",
    "\n",
    "    if sort:\n",
    "        df = df.rename(index={0: 'count'}).T.sort_values(\"count\",ascending=False)\n",
    "        return df[(df['count'] > 0)]\n",
    "\n",
    "    return df\n",
    "count_missings(df_j, sort=True)\n"
   ]
  },
  {
   "cell_type": "code",
   "execution_count": 15,
   "metadata": {},
   "outputs": [
    {
     "name": "stdout",
     "output_type": "stream",
     "text": [
      "Max CompetitionDistance: 75860.0\n"
     ]
    }
   ],
   "source": [
    "# Extract the maximum distance to a competitor store\n",
    "\n",
    "max_comp_distance = df_j.agg({'CompetitionDistance': 'max'}).collect()[0][0]\n",
    "print('Max CompetitionDistance:', max_comp_distance)\n"
   ]
  },
  {
   "cell_type": "code",
   "execution_count": 16,
   "metadata": {},
   "outputs": [],
   "source": [
    "# Fill in missing values\n",
    "\n",
    "# For DaysSinceCompOpen fill in 0 as the missing value\n",
    "df_j = df_j.fillna(0, subset='DaysSinceCompOpen')\n",
    "df_j_test = df_j_test.fillna(0, subset='DaysSinceCompOpen')\n",
    "\n",
    "# For CompetitionDistance assume there is no competition store closer than the maximum competition distance + 1\n",
    "df_j = df_j.fillna(max_comp_distance+1, subset='CompetitionDistance')\n",
    "df_j_test = df_j_test.fillna(max_comp_distance+1, subset='CompetitionDistance')\n",
    "\n",
    "# Fill in nulls with 0\n",
    "cols_for_pred = ['PromoInterval', 'Assortment', 'StoreType', 'StateHoliday', 'Store', 'DayOfWeek', 'Open', 'Promo', 'SchoolHoliday', 'CompetitionDistance', 'Promo2', 'DaysSinceCompOpen']\n",
    "\n",
    "df_test = df_test.fillna(0, subset=cols_for_pred)\n",
    "df_j_test = df_j_test.fillna(0, subset=cols_for_pred)\n"
   ]
  },
  {
   "cell_type": "code",
   "execution_count": 17,
   "metadata": {},
   "outputs": [
    {
     "name": "stdout",
     "output_type": "stream",
     "text": [
      "root\n",
      " |-- Store: integer (nullable = true)\n",
      " |-- DayOfWeek: double (nullable = true)\n",
      " |-- Date: timestamp (nullable = true)\n",
      " |-- Sales: double (nullable = true)\n",
      " |-- Customers: integer (nullable = true)\n",
      " |-- Open: integer (nullable = true)\n",
      " |-- Promo: integer (nullable = true)\n",
      " |-- StateHoliday: string (nullable = true)\n",
      " |-- SchoolHoliday: integer (nullable = true)\n",
      " |-- StoreType: string (nullable = true)\n",
      " |-- Assortment: string (nullable = true)\n",
      " |-- CompetitionDistance: double (nullable = false)\n",
      " |-- Promo2: integer (nullable = true)\n",
      " |-- Promo2SinceWeek: integer (nullable = true)\n",
      " |-- Promo2SinceYear: integer (nullable = true)\n",
      " |-- PromoInterval: string (nullable = true)\n",
      " |-- DaysSinceCompOpen: double (nullable = false)\n",
      " |-- Year: integer (nullable = true)\n",
      " |-- Month: double (nullable = true)\n",
      " |-- Week: double (nullable = true)\n",
      "\n"
     ]
    }
   ],
   "source": [
    "df_j.printSchema()"
   ]
  },
  {
   "cell_type": "markdown",
   "metadata": {},
   "source": [
    "Create feature for average customers for each store, week and day of week. The customers data is not available for the testset but the average over the trainperiod can be added to test."
   ]
  },
  {
   "cell_type": "code",
   "execution_count": 18,
   "metadata": {},
   "outputs": [],
   "source": [
    "avg_cust_df = df_j.groupby('Store', 'Week', 'DayOfWeek').agg({'Customers' : 'avg'})     #avg('Customers')"
   ]
  },
  {
   "cell_type": "code",
   "execution_count": 19,
   "metadata": {},
   "outputs": [
    {
     "name": "stdout",
     "output_type": "stream",
     "text": [
      "+-----+----+---------+------------------+\n",
      "|Store|Week|DayOfWeek|    avg(Customers)|\n",
      "+-----+----+---------+------------------+\n",
      "|  181| 7.0|      1.0|             623.0|\n",
      "|  607| 7.0|      1.0| 381.3333333333333|\n",
      "|  631| 7.0|      1.0| 629.3333333333334|\n",
      "|  230| 6.0|      6.0| 900.6666666666666|\n",
      "|  842| 6.0|      6.0|1282.6666666666667|\n",
      "|  954| 6.0|      6.0| 954.6666666666666|\n",
      "|  988| 6.0|      6.0| 524.6666666666666|\n",
      "|   62| 6.0|      5.0|             771.0|\n",
      "|  363| 6.0|      5.0|             950.0|\n",
      "|  408| 6.0|      5.0|             528.0|\n",
      "|  625| 6.0|      5.0| 630.3333333333334|\n",
      "|  804| 6.0|      5.0| 465.6666666666667|\n",
      "|  832| 6.0|      5.0| 601.3333333333334|\n",
      "|  907| 6.0|      5.0| 784.3333333333334|\n",
      "|  924| 6.0|      5.0| 475.6666666666667|\n",
      "|  113| 6.0|      4.0| 645.6666666666666|\n",
      "|  219| 6.0|      4.0| 435.3333333333333|\n",
      "|  264| 6.0|      4.0|1075.6666666666667|\n",
      "|  449| 6.0|      4.0|            1615.0|\n",
      "|  538| 6.0|      4.0| 633.3333333333334|\n",
      "+-----+----+---------+------------------+\n",
      "only showing top 20 rows\n",
      "\n"
     ]
    }
   ],
   "source": [
    "avg_cust_df.show()"
   ]
  },
  {
   "cell_type": "code",
   "execution_count": 20,
   "metadata": {},
   "outputs": [],
   "source": [
    "df_j = df_j.join(avg_cust_df, ['Store', 'Week', 'DayOfWeek'])\n",
    "df_j = df_j.withColumnRenamed('avg(Customers)', 'AvgCustomers')\n",
    "\n",
    "df_j_test = df_j_test.join(avg_cust_df, on = ['Store', 'Week', 'DayOfWeek'], how='left')\n",
    "df_j_test = df_j_test.withColumnRenamed('avg(Customers)', 'AvgCustomers')\n"
   ]
  },
  {
   "cell_type": "code",
   "execution_count": 21,
   "metadata": {},
   "outputs": [],
   "source": [
    "# Fill in 0 when in avgCustomers when null\n",
    "df_j_test = df_j_test.fillna(0, subset='AvgCustomers')"
   ]
  },
  {
   "cell_type": "markdown",
   "metadata": {},
   "source": [
    "#### Time features\n",
    "Features such as month, week and weekday are transformed into cyclical features with cos and sin transformations. This means that for example 'Month' which currently is a 1-dimensional feature ranging from 1-12 is converted into a 2-dimensional feature, one part with a sin transform and the other part with a cos transform. This makes the feature cyclical (meaning that after 12 comes 1). The same is done with weekday and week. Year is not transformed since it's not cyclical."
   ]
  },
  {
   "cell_type": "code",
   "execution_count": 22,
   "metadata": {},
   "outputs": [],
   "source": [
    "# Transform time features into cyclical features \n",
    "from pyspark.sql.functions import cos, sin\n",
    "\n",
    "# Month features\n",
    "df_j = df_j.withColumn('month_sin', sin((df_j.Month-1)*(2.*np.pi/12)))\n",
    "df_j = df_j.withColumn('month_cos', cos((df_j.Month-1)*(2.*np.pi/12)))\n",
    "\n",
    "df_j_test = df_j_test.withColumn('month_sin', sin((df_j_test.Month-1)*(2.*np.pi/12)))\n",
    "df_j_test = df_j_test.withColumn('month_cos', cos((df_j_test.Month-1)*(2.*np.pi/12)))\n",
    "\n",
    "# Week features\n",
    "df_j = df_j.withColumn('week_sin', sin((df_j.Week-1)*(2.*np.pi/52)))\n",
    "df_j = df_j.withColumn('week_cos', cos((df_j.Week-1)*(2.*np.pi/52)))\n",
    "\n",
    "df_j_test = df_j_test.withColumn('week_sin', sin((df_j_test.Week-1)*(2.*np.pi/52)))\n",
    "df_j_test = df_j_test.withColumn('week_cos', cos((df_j_test.Week-1)*(2.*np.pi/52)))\n",
    "\n",
    "# Day of week features\n",
    "df_j = df_j.withColumn('weekday_sin', sin((df_j.DayOfWeek-1)*(2.*np.pi/7)))\n",
    "df_j = df_j.withColumn('weekday_cos', cos((df_j.DayOfWeek-1)*(2.*np.pi/7)))\n",
    "\n",
    "df_j_test = df_j_test.withColumn('weekday_sin', sin((df_j_test.DayOfWeek-1)*(2.*np.pi/7)))\n",
    "df_j_test = df_j_test.withColumn('weekday_cos', cos((df_j_test.DayOfWeek-1)*(2.*np.pi/7)))\n"
   ]
  },
  {
   "cell_type": "code",
   "execution_count": 23,
   "metadata": {},
   "outputs": [
    {
     "name": "stdout",
     "output_type": "stream",
     "text": [
      "root\n",
      " |-- Store: integer (nullable = true)\n",
      " |-- Week: double (nullable = true)\n",
      " |-- DayOfWeek: double (nullable = true)\n",
      " |-- Date: timestamp (nullable = true)\n",
      " |-- Sales: double (nullable = true)\n",
      " |-- Customers: integer (nullable = true)\n",
      " |-- Open: integer (nullable = true)\n",
      " |-- Promo: integer (nullable = true)\n",
      " |-- StateHoliday: string (nullable = true)\n",
      " |-- SchoolHoliday: integer (nullable = true)\n",
      " |-- StoreType: string (nullable = true)\n",
      " |-- Assortment: string (nullable = true)\n",
      " |-- CompetitionDistance: double (nullable = false)\n",
      " |-- Promo2: integer (nullable = true)\n",
      " |-- Promo2SinceWeek: integer (nullable = true)\n",
      " |-- Promo2SinceYear: integer (nullable = true)\n",
      " |-- PromoInterval: string (nullable = true)\n",
      " |-- DaysSinceCompOpen: double (nullable = false)\n",
      " |-- Year: integer (nullable = true)\n",
      " |-- Month: double (nullable = true)\n",
      " |-- AvgCustomers: double (nullable = true)\n",
      " |-- month_sin: double (nullable = true)\n",
      " |-- month_cos: double (nullable = true)\n",
      " |-- week_sin: double (nullable = true)\n",
      " |-- week_cos: double (nullable = true)\n",
      " |-- weekday_sin: double (nullable = true)\n",
      " |-- weekday_cos: double (nullable = true)\n",
      "\n"
     ]
    }
   ],
   "source": [
    "df_j.printSchema()"
   ]
  },
  {
   "cell_type": "markdown",
   "metadata": {},
   "source": [
    "####  Promotion features\n",
    "Create feature to indicate for how long a promo has been running and when it will end."
   ]
  },
  {
   "cell_type": "code",
   "execution_count": 24,
   "metadata": {},
   "outputs": [],
   "source": [
    "# Promo2*dayofmonth\n",
    "df_j = df_j.withColumn('DaysSincePromoStarted', df_j.Promo2 * F.dayofmonth('Date'))\n",
    "df_j_test = df_j_test.withColumn('DaysSincePromoStarted', df_j_test.Promo2 * F.dayofmonth('Date'))\n",
    "\n",
    "# Find last day of the month\n",
    "df_j.createOrReplaceTempView('df_j_table')\n",
    "df_j = sqlContext.sql('select *, last_day(Date) as lastdayofmonth from df_j_table')\n",
    "\n",
    "df_j_test.createOrReplaceTempView('df_j_test_table')\n",
    "df_j_test = sqlContext.sql('select *, last_day(Date) as lastdayofmonth from df_j_test_table')\n",
    "\n",
    "spark.catalog.dropTempView(\"df_j_table\")\n",
    "spark.catalog.dropTempView(\"df_j_test_table\")\n",
    "\n",
    "# Create feature for how many days left on promo\n",
    "df_j = df_j.withColumn('DaysUntilPromoEnds', df_j.Promo2 * F.datediff(df_j.lastdayofmonth, df_j.Date))\n",
    "df_j_test = df_j_test.withColumn('DaysUntilPromoEnds', df_j_test.Promo2 * F.datediff(df_j_test.lastdayofmonth, df_j_test.Date))\n"
   ]
  },
  {
   "cell_type": "code",
   "execution_count": 25,
   "metadata": {},
   "outputs": [
    {
     "name": "stdout",
     "output_type": "stream",
     "text": [
      "+---------------------+------+-------------------+-------+-----+--------------+------------------+\n",
      "|DaysSincePromoStarted|Promo2|               Date|  Sales|Store|lastdayofmonth|DaysUntilPromoEnds|\n",
      "+---------------------+------+-------------------+-------+-----+--------------+------------------+\n",
      "|                    0|     0|2013-09-27 00:00:00| 4669.0|    1|    2013-09-30|                 0|\n",
      "|                    0|     0|2014-09-26 00:00:00| 3518.0|    1|    2014-09-30|                 0|\n",
      "|                    0|     0|2013-11-18 00:00:00| 5927.0|    1|    2013-11-30|                 0|\n",
      "|                    0|     0|2014-11-17 00:00:00| 3582.0|    1|    2014-11-30|                 0|\n",
      "|                    8|     1|2013-04-08 00:00:00| 9781.0|    3|    2013-04-30|                22|\n",
      "|                    7|     1|2014-04-07 00:00:00| 5121.0|    3|    2014-04-30|                23|\n",
      "|                    3|     1|2013-05-03 00:00:00| 9198.0|    3|    2013-05-31|                28|\n",
      "|                    2|     1|2014-05-02 00:00:00|10994.0|    3|    2014-05-31|                29|\n",
      "|                    7|     1|2013-09-07 00:00:00| 3661.0|    3|    2013-09-30|                23|\n",
      "|                    6|     1|2014-09-06 00:00:00| 3562.0|    3|    2014-09-30|                24|\n",
      "|                    9|     1|2013-09-09 00:00:00|11058.0|    3|    2013-09-30|                21|\n",
      "|                    8|     1|2014-09-08 00:00:00| 6061.0|    3|    2014-09-30|                22|\n",
      "|                    0|     0|2013-10-29 00:00:00| 5396.0|    6|    2013-10-31|                 0|\n",
      "|                    0|     0|2014-10-28 00:00:00| 4225.0|    6|    2014-10-31|                 0|\n",
      "|                    0|     0|2013-04-03 00:00:00| 6884.0|    7|    2013-04-30|                 0|\n",
      "|                    0|     0|2015-04-01 00:00:00|13381.0|    7|    2015-04-30|                 0|\n",
      "|                    0|     0|2014-04-02 00:00:00| 9083.0|    7|    2014-04-30|                 0|\n",
      "|                    0|     0|2013-11-14 00:00:00| 6974.0|    7|    2013-11-30|                 0|\n",
      "|                    0|     0|2014-11-13 00:00:00| 7935.0|    7|    2014-11-30|                 0|\n",
      "|                    0|     0|2013-12-03 00:00:00| 7223.0|   10|    2013-12-31|                 0|\n",
      "+---------------------+------+-------------------+-------+-----+--------------+------------------+\n",
      "only showing top 20 rows\n",
      "\n"
     ]
    }
   ],
   "source": [
    "df_j.select('DaysSincePromoStarted', 'Promo2', 'Date', 'Sales', 'Store', 'lastdayofmonth', 'DaysUntilPromoEnds').show()"
   ]
  },
  {
   "cell_type": "code",
   "execution_count": 38,
   "metadata": {},
   "outputs": [],
   "source": [
    "# take a small sample of df_j to build up a model\n",
    "df_js = df_j.sample(False, 0.00005, 42)"
   ]
  },
  {
   "cell_type": "code",
   "execution_count": 26,
   "metadata": {},
   "outputs": [
    {
     "name": "stdout",
     "output_type": "stream",
     "text": [
      "df_j_after count: 45852\n",
      "df_j_before count: 798540\n"
     ]
    }
   ],
   "source": [
    "df_j_before_150615 = df_j.filter(df_j.Date < '2015-06-15')\n",
    "df_j_after_150615 = df_j.filter(df_j.Date > '2015-06-15')\n",
    "\n",
    "print('df_j_after count:', df_j_after_150615.count())\n",
    "print('df_j_before count:', df_j_before_150615.count())"
   ]
  },
  {
   "cell_type": "code",
   "execution_count": 27,
   "metadata": {},
   "outputs": [
    {
     "name": "stdout",
     "output_type": "stream",
     "text": [
      "['Store', 'Promo', 'SchoolHoliday', 'CompetitionDistance', 'Promo2', 'DaysSinceCompOpen', 'Year', 'AvgCustomers', 'month_sin', 'month_cos', 'week_sin', 'week_cos', 'weekday_sin', 'weekday_cos', 'Open', 'DaysUntilPromoEnds', 'DaysSincePromoStarted', 'PromoInterval', 'Assortment', 'StoreType', 'StateHoliday', 'Sales']\n"
     ]
    }
   ],
   "source": [
    "from pyspark.ml import Pipeline\n",
    "from pyspark.ml.regression import GBTRegressor\n",
    "from pyspark.ml.feature import VectorAssembler\n",
    "from pyspark.ml.feature import StringIndexer\n",
    "from pyspark.ml.feature import OneHotEncoderEstimator\n",
    "from pyspark.ml.evaluation import RegressionEvaluator\n",
    "from pyspark.ml.tuning import CrossValidator, ParamGridBuilder\n",
    "\n",
    "cat_cols = ['PromoInterval', 'Assortment', 'StoreType', 'StateHoliday']\n",
    "num_cols = ['Store', 'Promo', 'SchoolHoliday', 'CompetitionDistance', 'Promo2', 'DaysSinceCompOpen', 'Year', 'AvgCustomers',\n",
    "           'month_sin', 'month_cos', 'week_sin', 'week_cos', 'weekday_sin', 'weekday_cos', 'Open', 'DaysUntilPromoEnds',\n",
    "           'DaysSincePromoStarted']\n",
    "\n",
    "cols_for_model = num_cols + cat_cols + ['Sales']\n",
    "\n",
    "df_j_red = df_j[cols_for_model]\n",
    "\n",
    "df_j_before_150615_red = df_j_before_150615[cols_for_model]\n",
    "df_j_after_150615_red = df_j_after_150615[cols_for_model]\n",
    "\n",
    "stages = []\n",
    "\n",
    "# Convert categorical strings to index values\n",
    "for cat_col in cat_cols:\n",
    "    indexer = StringIndexer(inputCol=cat_col, outputCol= cat_col +'_idx', handleInvalid='keep')\n",
    "    onehot = OneHotEncoderEstimator(inputCols=[indexer.getOutputCol()], outputCols= [cat_col + '_dummy'])\n",
    "    stages += [indexer, onehot]\n",
    "\n",
    "ohecols = [col + '_dummy' for col in cat_cols]\n",
    "    \n",
    "# Assemble predictors into a single column \n",
    "assembler = VectorAssembler(inputCols=num_cols + ohecols, outputCol='features')\n",
    "\n",
    "stages += [assembler]\n",
    "\n",
    "s_train, s_test = df_j_before_150615_red, df_j_after_150615_red\n",
    "\n",
    "# Print out columns to be used in prediction\n",
    "print(s_train.columns)"
   ]
  },
  {
   "cell_type": "code",
   "execution_count": 28,
   "metadata": {},
   "outputs": [],
   "source": [
    "# Create a Gradient boosted tree regressor\n",
    "gbt = GBTRegressor(featuresCol='features',\n",
    "                           labelCol='Sales',\n",
    "                           seed=1,\n",
    "                           stepSize = 0.05,\n",
    "                           maxIter = 120,\n",
    "                           maxDepth = 5\n",
    "                           )\n",
    "\n",
    "\n",
    "stages += [gbt]\n",
    "\n",
    "\n",
    "# Create a pipeline\n",
    "pipeline = Pipeline(stages=stages)\n",
    "\n",
    "# Create the evaluator, evaluate on Root mean square error\n",
    "pip_evaluator = RegressionEvaluator(\n",
    "    labelCol='Sales', predictionCol='prediction', metricName='rmse')"
   ]
  },
  {
   "cell_type": "code",
   "execution_count": 29,
   "metadata": {},
   "outputs": [],
   "source": [
    "def gbt_model():\n",
    "    \n",
    "    dev_model = 0\n",
    "    \n",
    "    # During development, test on dates after 2015-06-15\n",
    "    if dev_model == 1:\n",
    "    \n",
    "        g_model = pipeline.fit(s_train)\n",
    "    \n",
    "        predictions = g_model.transform(s_test)\n",
    "        rmse = pip_evaluator.evaluate(predictions)\n",
    "\n",
    "        print(\"Root Mean Squared Error (RMSE) on test data = %g\" % rmse)\n",
    "    \n",
    "    # Before submitting to Kaggle, train on entire dataset upto 2015-07-31. \n",
    "    # Predictions will then be made for 2015-08-01 -> 2015-09-15\n",
    "    if dev_model == 0:\n",
    "        g_model = pipeline.fit(df_j_red)\n",
    "    \n",
    "    return g_model"
   ]
  },
  {
   "cell_type": "code",
   "execution_count": 30,
   "metadata": {},
   "outputs": [],
   "source": [
    "model = gbt_model()"
   ]
  },
  {
   "cell_type": "code",
   "execution_count": 31,
   "metadata": {},
   "outputs": [],
   "source": [
    "# Choose the columns\n",
    "df_j_test_red = df_j_test[num_cols + cat_cols]\n",
    "#df_test = df_test.fillna(0, subset=columns_num)\n",
    "\n",
    "# Make prediction\n",
    "kaggle_pred = model.transform(df_j_test_red)\n",
    "\n"
   ]
  },
  {
   "cell_type": "code",
   "execution_count": 32,
   "metadata": {},
   "outputs": [
    {
     "name": "stdout",
     "output_type": "stream",
     "text": [
      "+-------+-----------------+\n",
      "|summary|       prediction|\n",
      "+-------+-----------------+\n",
      "|  count|            41088|\n",
      "|   mean|6054.223292289697|\n",
      "| stddev|2765.810060352756|\n",
      "|    min|972.8051959203464|\n",
      "|    max|27896.82588283824|\n",
      "+-------+-----------------+\n",
      "\n"
     ]
    }
   ],
   "source": [
    "kaggle_pred.describe('prediction').show()"
   ]
  },
  {
   "cell_type": "code",
   "execution_count": 33,
   "metadata": {},
   "outputs": [
    {
     "name": "stdout",
     "output_type": "stream",
     "text": [
      "+-------+------------------+\n",
      "|summary|        prediction|\n",
      "+-------+------------------+\n",
      "|  count|              5995|\n",
      "|   mean|2391.5527219844444|\n",
      "| stddev| 678.4589059614143|\n",
      "|    min| 972.8051959203464|\n",
      "|    max|13285.755456309284|\n",
      "+-------+------------------+\n",
      "\n",
      "+-------+------------------+\n",
      "|summary|        prediction|\n",
      "+-------+------------------+\n",
      "|  count|             41088|\n",
      "|   mean| 5705.280570125153|\n",
      "| stddev|3294.1631945481786|\n",
      "|    min|               0.0|\n",
      "|    max| 27896.82588283824|\n",
      "+-------+------------------+\n",
      "\n"
     ]
    }
   ],
   "source": [
    "# Check the predictions for when the store is closed\n",
    "\n",
    "kaggle_pred.filter(kaggle_pred['Open'] == 0).describe('prediction').show()\n",
    "\n",
    "# Change predictions to 0 when store is closed\n",
    "from pyspark.sql.functions import when   \n",
    "\n",
    "kaggle_pred = kaggle_pred.withColumn('prediction', when(kaggle_pred['Open'] == 0, 0).otherwise(kaggle_pred['prediction']))\n",
    "\n",
    "kaggle_pred.describe('prediction').show()"
   ]
  },
  {
   "cell_type": "code",
   "execution_count": 34,
   "metadata": {},
   "outputs": [],
   "source": [
    "kp_pandas = kaggle_pred.select('prediction').toPandas()\n",
    "ki_pandas = df_j_test.select('Id').toPandas()\n",
    "kp_pandas['Id'] = ki_pandas['Id']\n",
    "kp_pandas['Sales'] = kp_pandas['prediction']\n",
    "kp_pandas = kp_pandas.drop(columns=['prediction'])"
   ]
  },
  {
   "cell_type": "code",
   "execution_count": 35,
   "metadata": {},
   "outputs": [
    {
     "data": {
      "text/html": [
       "<div>\n",
       "<style scoped>\n",
       "    .dataframe tbody tr th:only-of-type {\n",
       "        vertical-align: middle;\n",
       "    }\n",
       "\n",
       "    .dataframe tbody tr th {\n",
       "        vertical-align: top;\n",
       "    }\n",
       "\n",
       "    .dataframe thead th {\n",
       "        text-align: right;\n",
       "    }\n",
       "</style>\n",
       "<table border=\"1\" class=\"dataframe\">\n",
       "  <thead>\n",
       "    <tr style=\"text-align: right;\">\n",
       "      <th></th>\n",
       "      <th>Id</th>\n",
       "      <th>Sales</th>\n",
       "    </tr>\n",
       "  </thead>\n",
       "  <tbody>\n",
       "    <tr>\n",
       "      <th>0</th>\n",
       "      <td>10274</td>\n",
       "      <td>4086.549744</td>\n",
       "    </tr>\n",
       "    <tr>\n",
       "      <th>1</th>\n",
       "      <td>8562</td>\n",
       "      <td>6693.337412</td>\n",
       "    </tr>\n",
       "    <tr>\n",
       "      <th>2</th>\n",
       "      <td>32543</td>\n",
       "      <td>4700.296122</td>\n",
       "    </tr>\n",
       "    <tr>\n",
       "      <th>3</th>\n",
       "      <td>18853</td>\n",
       "      <td>6223.431180</td>\n",
       "    </tr>\n",
       "    <tr>\n",
       "      <th>4</th>\n",
       "      <td>40255</td>\n",
       "      <td>6968.830703</td>\n",
       "    </tr>\n",
       "  </tbody>\n",
       "</table>\n",
       "</div>"
      ],
      "text/plain": [
       "      Id        Sales\n",
       "0  10274  4086.549744\n",
       "1   8562  6693.337412\n",
       "2  32543  4700.296122\n",
       "3  18853  6223.431180\n",
       "4  40255  6968.830703"
      ]
     },
     "execution_count": 35,
     "metadata": {},
     "output_type": "execute_result"
    }
   ],
   "source": [
    "kp_pandas.head()\n"
   ]
  },
  {
   "cell_type": "code",
   "execution_count": 36,
   "metadata": {},
   "outputs": [
    {
     "data": {
      "text/plain": [
       "{'file_name': 'submission6a.csv',\n",
       " 'message': 'File saved to project storage.',\n",
       " 'bucket_name': 'm5forecastingaccuracy-donotdelete-pr-5fybfotj7xtmkk',\n",
       " 'asset_id': '7897d67a-7e20-4ba2-8629-d33bb6dc7450'}"
      ]
     },
     "execution_count": 36,
     "metadata": {},
     "output_type": "execute_result"
    }
   ],
   "source": [
    "project.save_data(\"submission6a.csv\", kp_pandas.to_csv(index=False))\n"
   ]
  },
  {
   "cell_type": "code",
   "execution_count": null,
   "metadata": {},
   "outputs": [],
   "source": [
    "# trees = 100, alpha = 0.05, RMSE = 1297"
   ]
  }
 ],
 "metadata": {
  "kernelspec": {
   "display_name": "Python 3.6 with Spark",
   "language": "python3",
   "name": "python36"
  },
  "language_info": {
   "codemirror_mode": {
    "name": "ipython",
    "version": 3
   },
   "file_extension": ".py",
   "mimetype": "text/x-python",
   "name": "python",
   "nbconvert_exporter": "python",
   "pygments_lexer": "ipython3",
   "version": "3.6.8"
  }
 },
 "nbformat": 4,
 "nbformat_minor": 1
}
